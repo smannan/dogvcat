{
 "cells": [
  {
   "cell_type": "code",
   "execution_count": 3,
   "metadata": {
    "collapsed": false,
    "scrolled": true
   },
   "outputs": [],
   "source": [
    "import glob\n",
    "import numpy as np\n",
    "import os\n",
    "import pandas as pd\n",
    "import pickle\n",
    "import skimage  \n",
    "\n",
    "from skimage import io, color, feature\n",
    "from skimage import transform\n",
    "from sklearn.decomposition import PCA\n",
    "from tqdm import tqdm"
   ]
  },
  {
   "cell_type": "code",
   "execution_count": 5,
   "metadata": {
    "collapsed": false
   },
   "outputs": [],
   "source": [
    "TRAINING_DIR = '/data/smannan/train/train/'\n",
    "NUM_IMAGES = 25000\n",
    "PCA_DIM = 100\n",
    "IMAGE_SIZE = (100, 100)\n",
    "LABELS = ['cat', 'dog']\n",
    "RS = 20150101"
   ]
  },
  {
   "cell_type": "code",
   "execution_count": 2,
   "metadata": {
    "collapsed": true
   },
   "outputs": [],
   "source": [
    "'''\n",
    "Directory structure used to train and test nueral nets\n",
    "data/\n",
    "    train_master/\n",
    "        dog001.jpg\n",
    "        dog002.jpg\n",
    "        ...\n",
    "        cat001.jpg\n",
    "        cat002.jpg\n",
    "        ...\n",
    "    train/\n",
    "        dogs/\n",
    "            dog001.jpg\n",
    "            dog002.jpg\n",
    "            ...\n",
    "        cats/\n",
    "            cat001.jpg\n",
    "            cat002.jpg\n",
    "            ...\n",
    "    validation/\n",
    "        dogs/\n",
    "            dog001.jpg\n",
    "            dog002.jpg\n",
    "            ...\n",
    "        cats/\n",
    "            cat001.jpg\n",
    "            cat002.jpg\n",
    "            ...\n",
    "'''\n",
    "def change_dir_structure(num_images):\n",
    "    os.chdir('/data/smannan/train/train_master/')\n",
    "    files = glob.glob(\"*.jpg\")\n",
    "    seen = set()\n",
    "    \n",
    "    for i in range(int(num_images*0.3)):\n",
    "        idx = np.random.randint(num_images)\n",
    "        while idx in seen: idx = np.random.randint(num_images)\n",
    "        curr = files[idx]\n",
    "        if curr.split('.')[0] == 'cat': shutil.copy(curr, '../validation/dog/')\n",
    "        else: shutil.copy(curr, '../validation/cat/')\n",
    "        seen.add(idx)\n",
    "    \n",
    "    print (len(seen))\n",
    "    for i in range(num_images):\n",
    "        if i not in seen:\n",
    "            curr = files[i]\n",
    "            if curr.split('.')[0] == 'cat': shutil.copy(curr, '../train/cat')\n",
    "            else: shutil.copy(curr, '../train/dog')"
   ]
  },
  {
   "cell_type": "code",
   "execution_count": 4,
   "metadata": {
    "collapsed": true
   },
   "outputs": [],
   "source": [
    "def tidy_training_data(pathname, images, labels):\n",
    "    os.chdir(pathname)\n",
    "    files = glob.glob(\"*.jpg\")\n",
    "    tidy_data = []\n",
    "    labels_train = []\n",
    "    \n",
    "    for i in tqdm(range(len(files))):\n",
    "        label = LABELS.index(files[i].split('.')[0])\n",
    "        image = transform.resize(io.imread(files[i], as_grey=True), IMAGE_SIZE)\n",
    "        tidy_data.append(image)\n",
    "        labels_train.append(label)\n",
    "    \n",
    "    im = open(images, 'wb')\n",
    "    labels = open(labels, 'wb')\n",
    "    \n",
    "    np.save(im, tidy_data)\n",
    "    im.close()\n",
    "    \n",
    "    np.save(labels, labels_train)\n",
    "    labels.close()"
   ]
  },
  {
   "cell_type": "code",
   "execution_count": 6,
   "metadata": {
    "collapsed": true
   },
   "outputs": [],
   "source": [
    "def extract_HOG(data, output):\n",
    "    HOG_feat = []\n",
    "    \n",
    "    for i in tqdm(range(len(data))):\n",
    "        image = color.rgb2gray(data[i,:])\n",
    "        hog_vec = feature.hog(image)\n",
    "        HOG_feat.append(hog_vec)\n",
    "\n",
    "    f = open(output, 'wb')\n",
    "    np.save(f, HOG_feat)\n",
    "    f.close()"
   ]
  },
  {
   "cell_type": "code",
   "execution_count": 18,
   "metadata": {
    "collapsed": true
   },
   "outputs": [],
   "source": [
    "def extract_pca(data, output, ncomp=PCA_DIM):\n",
    "    pca = PCA(n_components=ncomp)\n",
    "    projected = pca.fit_transform(data)\n",
    "    f = open(output, 'wb')\n",
    "    np.save(f, projected)\n",
    "    f.close()"
   ]
  },
  {
   "cell_type": "code",
   "execution_count": 6,
   "metadata": {
    "collapsed": false,
    "scrolled": true
   },
   "outputs": [],
   "source": [
    "tidy_training_data(TRAINING_DIR, \n",
    "                '/home/smannan/finalproject/training_im_100x100.npy',\n",
    "                 '/home/smannan/finalproject/training_labels_100x100.npy')"
   ]
  },
  {
   "cell_type": "code",
   "execution_count": 8,
   "metadata": {
    "collapsed": false
   },
   "outputs": [],
   "source": [
    "data = np.load(open('/home/smannan/finalproject/training_im_100x100.npy','rb'))\n",
    "labels = np.load(open('/home/smannan/finalproject/training_labels_100x100.npy','rb'))\n",
    "data_reshape = data.reshape(data.shape[0], data.shape[1]*data.shape[1])"
   ]
  },
  {
   "cell_type": "code",
   "execution_count": 9,
   "metadata": {
    "collapsed": false
   },
   "outputs": [
    {
     "name": "stderr",
     "output_type": "stream",
     "text": [
      "100%|██████████| 25000/25000 [02:09<00:00, 193.26it/s]\n"
     ]
    }
   ],
   "source": [
    "extract_HOG(data, '/home/smannan/finalproject/training_hog_100x100.npy')"
   ]
  },
  {
   "cell_type": "code",
   "execution_count": 14,
   "metadata": {
    "collapsed": false
   },
   "outputs": [],
   "source": [
    "assert len(data.shape) == 3\n",
    "assert data.shape[0] == NUM_IMAGES\n",
    "assert data.shape[1] == IMAGE_SIZE[0]\n",
    "assert data_reshape.shape[0] == NUM_IMAGES\n",
    "assert data_reshape.shape[1] == IMAGE_SIZE[0] * IMAGE_SIZE[0]\n",
    "assert labels.shape[0] == NUM_IMAGES"
   ]
  },
  {
   "cell_type": "code",
   "execution_count": 8,
   "metadata": {
    "collapsed": true
   },
   "outputs": [],
   "source": [
    "hog = np.load(open('/home/smannan/finalproject/training_hog_50x50.npy','rb'))"
   ]
  },
  {
   "cell_type": "code",
   "execution_count": 9,
   "metadata": {
    "collapsed": false
   },
   "outputs": [],
   "source": [
    "assert hog.shape[0] == NUM_IMAGES"
   ]
  },
  {
   "cell_type": "code",
   "execution_count": 11,
   "metadata": {
    "collapsed": false
   },
   "outputs": [],
   "source": [
    "extract_pca(data_reshape, '/home/smannan/finalproject/training_pca_100x100.npy')"
   ]
  },
  {
   "cell_type": "code",
   "execution_count": 12,
   "metadata": {
    "collapsed": true
   },
   "outputs": [],
   "source": [
    "pca = np.load(open('/home/smannan/finalproject/training_pca_100x100.npy','rb'))"
   ]
  },
  {
   "cell_type": "code",
   "execution_count": 19,
   "metadata": {
    "collapsed": true
   },
   "outputs": [],
   "source": [
    "assert pca.shape[0] == NUM_IMAGES\n",
    "assert pca.shape[1] == PCA_DIM"
   ]
  },
  {
   "cell_type": "code",
   "execution_count": 6,
   "metadata": {
    "collapsed": false
   },
   "outputs": [],
   "source": [
    "os.chdir('/data/smannan/train/validation/cat')\n",
    "test_cats = len(glob.glob(\"*.jpg\"))\n",
    "\n",
    "os.chdir('../dog/')\n",
    "test_dogs = len(glob.glob(\"*.jpg\"))\n",
    "\n",
    "assert test_cats + test_dogs == 0.3 * NUM_IMAGES\n",
    "\n",
    "os.chdir('/data/smannan/train/train/cat')\n",
    "train_cat = len(glob.glob(\"*.jpg\"))\n",
    "\n",
    "os.chdir('../dog/')\n",
    "train_dog = len(glob.glob(\"*.jpg\"))\n",
    "\n",
    "assert train_cat + train_dog == 0.7 * NUM_IMAGES\n",
    "\n",
    "os.chdir('/home/smannan/finalproject/')"
   ]
  },
  {
   "cell_type": "code",
   "execution_count": null,
   "metadata": {
    "collapsed": true
   },
   "outputs": [],
   "source": []
  }
 ],
 "metadata": {
  "anaconda-cloud": {},
  "kernelspec": {
   "display_name": "Python 3",
   "language": "python",
   "name": "python3"
  },
  "language_info": {
   "codemirror_mode": {
    "name": "ipython",
    "version": 3
   },
   "file_extension": ".py",
   "mimetype": "text/x-python",
   "name": "python",
   "nbconvert_exporter": "python",
   "pygments_lexer": "ipython3",
   "version": "3.5.2"
  }
 },
 "nbformat": 4,
 "nbformat_minor": 1
}
